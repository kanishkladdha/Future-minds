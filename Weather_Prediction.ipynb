# Rainfall Prediction

import pandas as pd
import numpy as np
import matplotlib.pyplot as plt
import seaborn as sns
from sklearn.model_selection import train_test_split
from sklearn.ensemble import RandomForestRegressor
from sklearn.metrics import r2_score

# Load dataset
ds = pd.read_csv("fall.csv")

# Drop unnecessary columns
ds.drop(['month', 'day'], axis=1, inplace=True)

# Check for missing values
if ds.isnull().sum().any():
    print("Missing values found!")

# Split data into features and target
X = ds.iloc[:, :-1].values  # All columns except the last
y = ds.iloc[:, -1].values    # Last column

# Train-test split
X_train, X_test, y_train, y_test = train_test_split(X, y, test_size=0.2, random_state=0)

# Model training
model = RandomForestRegressor(n_estimators=100, random_state=0)
model.fit(X_train, y_train)

# Predictions
y_pred = model.predict(X_test)

# Model evaluation
print(f"R² Score: {r2_score(y_test, y_pred)}")

# Visualizations
features = ['tempavg', 'DPavg', 'humidity avg', 'SLPavg', 'visibilityavg', 'windavg']
for i, feature in enumerate(features):
    plt.scatter(X_train[:, i], y_train, color='blue')
    plt.title(f'Rainfall prediction (Training set) - {feature}')
    plt.xlabel(feature)
    plt.ylabel('Rainfall')
    plt.show()

# Predicting a new data record
new_data = np.array([[2020, 18, 16, 65, 1013, 6, 8]])
prediction = model.predict(new_data)
print(f"Predicted Rainfall: {prediction[0]}")
