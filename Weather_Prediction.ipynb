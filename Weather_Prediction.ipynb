{
 "cells": [
  {
   "cell_type": "markdown",
   "metadata": {},
   "source": [
    "# Rainfall Prediction"
   ]
  },
  {
   "cell_type": "code",
   "execution_count": 28,
   "metadata": {},
   "outputs": [],
   "source": [
    "import pandas as pd   #importing Libraries\n",
    "import numpy as np\n",
    "import matplotlib.pyplot as plt"
   ]
  },
  {
   "cell_type": "code",
   "execution_count": 29,
   "metadata": {},
   "outputs": [],
   "source": [
    "ds=pd.read_csv(\"fall.csv\")   #Reading Dataset"
   ]
  },
  {
   "cell_type": "code",
   "execution_count": 30,
   "metadata": {
    "scrolled": true
   },
   "outputs": [
    {
     "data": {
      "text/html": [
       "<div>\n",
       "<style scoped>\n",
       "    .dataframe tbody tr th:only-of-type {\n",
       "        vertical-align: middle;\n",
       "    }\n",
       "\n",
       "    .dataframe tbody tr th {\n",
       "        vertical-align: top;\n",
       "    }\n",
       "\n",
       "    .dataframe thead th {\n",
       "        text-align: right;\n",
       "    }\n",
       "</style>\n",
       "<table border=\"1\" class=\"dataframe\">\n",
       "  <thead>\n",
       "    <tr style=\"text-align: right;\">\n",
       "      <th></th>\n",
       "      <th>year</th>\n",
       "      <th>month</th>\n",
       "      <th>day</th>\n",
       "      <th>tempavg</th>\n",
       "      <th>DPavg</th>\n",
       "      <th>humidity avg</th>\n",
       "      <th>SLPavg</th>\n",
       "      <th>visibilityavg</th>\n",
       "      <th>windavg</th>\n",
       "      <th>Rainfall</th>\n",
       "    </tr>\n",
       "  </thead>\n",
       "  <tbody>\n",
       "    <tr>\n",
       "      <th>0</th>\n",
       "      <td>2011</td>\n",
       "      <td>2</td>\n",
       "      <td>13</td>\n",
       "      <td>21</td>\n",
       "      <td>13</td>\n",
       "      <td>60</td>\n",
       "      <td>1009</td>\n",
       "      <td>3</td>\n",
       "      <td>5</td>\n",
       "      <td>0.0</td>\n",
       "    </tr>\n",
       "    <tr>\n",
       "      <th>1</th>\n",
       "      <td>2011</td>\n",
       "      <td>2</td>\n",
       "      <td>14</td>\n",
       "      <td>21</td>\n",
       "      <td>18</td>\n",
       "      <td>75</td>\n",
       "      <td>1009</td>\n",
       "      <td>3</td>\n",
       "      <td>5</td>\n",
       "      <td>0.0</td>\n",
       "    </tr>\n",
       "    <tr>\n",
       "      <th>2</th>\n",
       "      <td>2011</td>\n",
       "      <td>2</td>\n",
       "      <td>15</td>\n",
       "      <td>22</td>\n",
       "      <td>18</td>\n",
       "      <td>75</td>\n",
       "      <td>1010</td>\n",
       "      <td>3</td>\n",
       "      <td>10</td>\n",
       "      <td>0.0</td>\n",
       "    </tr>\n",
       "    <tr>\n",
       "      <th>3</th>\n",
       "      <td>2011</td>\n",
       "      <td>2</td>\n",
       "      <td>16</td>\n",
       "      <td>23</td>\n",
       "      <td>21</td>\n",
       "      <td>86</td>\n",
       "      <td>1011</td>\n",
       "      <td>3</td>\n",
       "      <td>8</td>\n",
       "      <td>0.0</td>\n",
       "    </tr>\n",
       "    <tr>\n",
       "      <th>4</th>\n",
       "      <td>2011</td>\n",
       "      <td>2</td>\n",
       "      <td>17</td>\n",
       "      <td>23</td>\n",
       "      <td>19</td>\n",
       "      <td>75</td>\n",
       "      <td>1011</td>\n",
       "      <td>3</td>\n",
       "      <td>8</td>\n",
       "      <td>0.0</td>\n",
       "    </tr>\n",
       "  </tbody>\n",
       "</table>\n",
       "</div>"
      ],
      "text/plain": [
       "   year  month  day  tempavg  DPavg  humidity avg  SLPavg  visibilityavg  \\\n",
       "0  2011      2   13       21     13            60    1009              3   \n",
       "1  2011      2   14       21     18            75    1009              3   \n",
       "2  2011      2   15       22     18            75    1010              3   \n",
       "3  2011      2   16       23     21            86    1011              3   \n",
       "4  2011      2   17       23     19            75    1011              3   \n",
       "\n",
       "   windavg  Rainfall  \n",
       "0        5       0.0  \n",
       "1        5       0.0  \n",
       "2       10       0.0  \n",
       "3        8       0.0  \n",
       "4        8       0.0  "
      ]
     },
     "execution_count": 30,
     "metadata": {},
     "output_type": "execute_result"
    }
   ],
   "source": [
    "ds.head()     #Displaying first 5 records"
   ]
  },
  {
   "cell_type": "code",
   "execution_count": 31,
   "metadata": {},
   "outputs": [],
   "source": [
    "ds=ds.drop(['month','day'], axis=1)   #Droping Unnecessary columns"
   ]
  },
  {
   "cell_type": "code",
   "execution_count": 32,
   "metadata": {},
   "outputs": [
    {
     "data": {
      "text/html": [
       "<div>\n",
       "<style scoped>\n",
       "    .dataframe tbody tr th:only-of-type {\n",
       "        vertical-align: middle;\n",
       "    }\n",
       "\n",
       "    .dataframe tbody tr th {\n",
       "        vertical-align: top;\n",
       "    }\n",
       "\n",
       "    .dataframe thead th {\n",
       "        text-align: right;\n",
       "    }\n",
       "</style>\n",
       "<table border=\"1\" class=\"dataframe\">\n",
       "  <thead>\n",
       "    <tr style=\"text-align: right;\">\n",
       "      <th></th>\n",
       "      <th>year</th>\n",
       "      <th>tempavg</th>\n",
       "      <th>DPavg</th>\n",
       "      <th>humidity avg</th>\n",
       "      <th>SLPavg</th>\n",
       "      <th>visibilityavg</th>\n",
       "      <th>windavg</th>\n",
       "      <th>Rainfall</th>\n",
       "    </tr>\n",
       "  </thead>\n",
       "  <tbody>\n",
       "    <tr>\n",
       "      <th>0</th>\n",
       "      <td>2011</td>\n",
       "      <td>21</td>\n",
       "      <td>13</td>\n",
       "      <td>60</td>\n",
       "      <td>1009</td>\n",
       "      <td>3</td>\n",
       "      <td>5</td>\n",
       "      <td>0.0</td>\n",
       "    </tr>\n",
       "    <tr>\n",
       "      <th>1</th>\n",
       "      <td>2011</td>\n",
       "      <td>21</td>\n",
       "      <td>18</td>\n",
       "      <td>75</td>\n",
       "      <td>1009</td>\n",
       "      <td>3</td>\n",
       "      <td>5</td>\n",
       "      <td>0.0</td>\n",
       "    </tr>\n",
       "    <tr>\n",
       "      <th>2</th>\n",
       "      <td>2011</td>\n",
       "      <td>22</td>\n",
       "      <td>18</td>\n",
       "      <td>75</td>\n",
       "      <td>1010</td>\n",
       "      <td>3</td>\n",
       "      <td>10</td>\n",
       "      <td>0.0</td>\n",
       "    </tr>\n",
       "    <tr>\n",
       "      <th>3</th>\n",
       "      <td>2011</td>\n",
       "      <td>23</td>\n",
       "      <td>21</td>\n",
       "      <td>86</td>\n",
       "      <td>1011</td>\n",
       "      <td>3</td>\n",
       "      <td>8</td>\n",
       "      <td>0.0</td>\n",
       "    </tr>\n",
       "    <tr>\n",
       "      <th>4</th>\n",
       "      <td>2011</td>\n",
       "      <td>23</td>\n",
       "      <td>19</td>\n",
       "      <td>75</td>\n",
       "      <td>1011</td>\n",
       "      <td>3</td>\n",
       "      <td>8</td>\n",
       "      <td>0.0</td>\n",
       "    </tr>\n",
       "  </tbody>\n",
       "</table>\n",
       "</div>"
      ],
      "text/plain": [
       "   year  tempavg  DPavg  humidity avg  SLPavg  visibilityavg  windavg  \\\n",
       "0  2011       21     13            60    1009              3        5   \n",
       "1  2011       21     18            75    1009              3        5   \n",
       "2  2011       22     18            75    1010              3       10   \n",
       "3  2011       23     21            86    1011              3        8   \n",
       "4  2011       23     19            75    1011              3        8   \n",
       "\n",
       "   Rainfall  \n",
       "0       0.0  \n",
       "1       0.0  \n",
       "2       0.0  \n",
       "3       0.0  \n",
       "4       0.0  "
      ]
     },
     "execution_count": 32,
     "metadata": {},
     "output_type": "execute_result"
    }
   ],
   "source": [
    "ds.head()    #Displaying first 5 records"
   ]
  },
  {
   "cell_type": "code",
   "execution_count": 33,
   "metadata": {},
   "outputs": [
    {
     "data": {
      "text/plain": [
       "year             0\n",
       "tempavg          0\n",
       "DPavg            0\n",
       "humidity avg     0\n",
       "SLPavg           0\n",
       "visibilityavg    0\n",
       "windavg          0\n",
       "Rainfall         0\n",
       "dtype: int64"
      ]
     },
     "execution_count": 33,
     "metadata": {},
     "output_type": "execute_result"
    }
   ],
   "source": [
    "ds.isnull().sum()      #Checking for any missing values"
   ]
  },
  {
   "cell_type": "code",
   "execution_count": 36,
   "metadata": {},
   "outputs": [],
   "source": [
    "x=ds.iloc[:,:7].values     #Assigning variables to the dependent and independent attiributes\n",
    "y=ds.iloc[:,7].values"
   ]
  },
  {
   "cell_type": "code",
   "execution_count": 37,
   "metadata": {},
   "outputs": [
    {
     "data": {
      "text/plain": [
       "array([[2011,   21,   13, ..., 1009,    3,    5],\n",
       "       [2011,   21,   18, ..., 1009,    3,    5],\n",
       "       [2011,   22,   18, ..., 1010,    3,   10],\n",
       "       ...,\n",
       "       [2017,   23,   16, ..., 1014,    4,    5],\n",
       "       [2017,   23,   17, ..., 1013,    4,    5],\n",
       "       [2017,   24,   18, ..., 1012,    4,    2]], dtype=int64)"
      ]
     },
     "execution_count": 37,
     "metadata": {},
     "output_type": "execute_result"
    }
   ],
   "source": [
    "x"
   ]
  },
  {
   "cell_type": "code",
   "execution_count": 38,
   "metadata": {},
   "outputs": [
    {
     "data": {
      "text/plain": [
       "array([0., 0., 0., ..., 0., 0., 0.])"
      ]
     },
     "execution_count": 38,
     "metadata": {},
     "output_type": "execute_result"
    }
   ],
   "source": [
    "y"
   ]
  },
  {
   "cell_type": "code",
   "execution_count": 39,
   "metadata": {},
   "outputs": [],
   "source": [
    "from sklearn.model_selection import train_test_split         #performing train-test split.\n",
    "x_train, x_test, y_train, y_test = train_test_split(x, y, test_size = 0.20,random_state=0)   "
   ]
  },
  {
   "cell_type": "code",
   "execution_count": 40,
   "metadata": {},
   "outputs": [
    {
     "data": {
      "text/plain": [
       "array([[2015,   30,   27, ..., 1004,    6,   14],\n",
       "       [2015,   29,   26, ..., 1008,    6,   13],\n",
       "       [2017,   25,   22, ..., 1012,    4,   14],\n",
       "       ...,\n",
       "       [2013,   28,   26, ..., 1003,    5,   10],\n",
       "       [2013,   23,   22, ..., 1007,    5,   11],\n",
       "       [2016,   18,   14, ..., 1017,    2,   13]], dtype=int64)"
      ]
     },
     "execution_count": 40,
     "metadata": {},
     "output_type": "execute_result"
    }
   ],
   "source": [
    "x_train"
   ]
  },
  {
   "cell_type": "code",
   "execution_count": 41,
   "metadata": {},
   "outputs": [
    {
     "data": {
      "text/plain": [
       "RandomForestRegressor(random_state=0)"
      ]
     },
     "execution_count": 41,
     "metadata": {},
     "output_type": "execute_result"
    }
   ],
   "source": [
    "from sklearn.ensemble import RandomForestRegressor       #Model building using Random Forest\n",
    "regressor = RandomForestRegressor(n_estimators=100, random_state = 0)\n",
    "regressor.fit(x_train, y_train)\n"
   ]
  },
  {
   "cell_type": "code",
   "execution_count": 42,
   "metadata": {},
   "outputs": [],
   "source": [
    "ypred =regressor.predict(x_test)     #Predicting using testing data on trained data."
   ]
  },
  {
   "cell_type": "code",
   "execution_count": 43,
   "metadata": {},
   "outputs": [
    {
     "data": {
      "text/plain": [
       "array([7.18700000e-01, 0.00000000e+00, 0.00000000e+00, 0.00000000e+00,\n",
       "       0.00000000e+00, 0.00000000e+00, 0.00000000e+00, 0.00000000e+00,\n",
       "       7.67110000e+00, 1.51170000e+00, 2.18380000e+00, 8.64940000e+00,\n",
       "       2.54000000e-01, 0.00000000e+00, 6.47110000e+00, 5.10000000e-03,\n",
       "       4.97400000e+00, 7.31500000e-01, 1.17830000e+00, 1.77600000e-01,\n",
       "       0.00000000e+00, 4.55722000e+01, 6.93180000e+00, 1.01308000e+01,\n",
       "       2.02310000e+00, 2.84500000e-01, 0.00000000e+00, 7.50000000e-03,\n",
       "       1.22150000e+00, 0.00000000e+00, 6.98600000e-01, 1.26900000e-01,\n",
       "       0.00000000e+00, 2.12630000e+00, 6.16950000e+00, 0.00000000e+00,\n",
       "       3.81320000e+00, 0.00000000e+00, 1.51974000e+01, 0.00000000e+00,\n",
       "       4.14550000e+00, 0.00000000e+00, 5.60000000e-02, 0.00000000e+00,\n",
       "       0.00000000e+00, 0.00000000e+00, 1.01400000e-01, 6.14700000e-01,\n",
       "       9.55020000e+00, 5.05300000e-01, 2.03000000e-02, 9.43910000e+00,\n",
       "       6.08290000e+00, 3.09360000e+00, 1.33870000e+00, 2.94513000e+01,\n",
       "       0.00000000e+00, 9.95500000e-01, 6.55400000e-01, 8.57960000e+00,\n",
       "       3.60130000e+00, 1.42480000e+00, 2.77840000e+00, 0.00000000e+00,\n",
       "       1.46090000e+00, 1.60000000e-01, 0.00000000e+00, 0.00000000e+00,\n",
       "       2.47860000e+00, 2.23640000e+00, 3.98800000e-01, 3.45400000e-01,\n",
       "       2.31398000e+01, 3.27900000e+00, 2.15570000e+00, 3.19250000e+00,\n",
       "       0.00000000e+00, 2.37780000e+00, 3.07300000e-01, 0.00000000e+00,\n",
       "       1.84660000e+00, 0.00000000e+00, 0.00000000e+00, 1.53540000e+00,\n",
       "       4.67000000e-01, 1.87410000e+00, 2.28620000e+00, 4.37100000e-01,\n",
       "       1.43740000e+00, 3.68300000e-01, 0.00000000e+00, 1.31850000e+00,\n",
       "       7.22250000e+00, 2.35240000e+00, 1.49050500e+01, 5.89100000e-01,\n",
       "       0.00000000e+00, 2.51170000e+00, 2.31910000e+00, 0.00000000e+00,\n",
       "       5.39380000e+00, 3.38500000e+00, 1.31810000e+00, 3.16980000e+00,\n",
       "       3.46400000e+00, 8.36000000e-02, 0.00000000e+00, 0.00000000e+00,\n",
       "       2.50000000e-03, 5.05400000e-01, 1.62500000e-01, 0.00000000e+00,\n",
       "       1.39480000e+00, 9.85600000e-01, 1.04330000e+00, 1.67121000e+01,\n",
       "       9.21700000e-01, 7.64720000e+00, 0.00000000e+00, 1.49800000e-01,\n",
       "       3.25000000e-01, 8.78800000e-01, 6.35200000e-01, 4.36700000e-01,\n",
       "       0.00000000e+00, 1.43642000e+01, 0.00000000e+00, 1.64656000e+01,\n",
       "       6.42900000e-01, 7.87000000e-02, 1.02000000e-02, 1.19994000e+01,\n",
       "       1.59750000e+00, 4.24190000e+00, 1.57210000e+00, 5.80493333e+00,\n",
       "       1.52150000e+00, 3.49246000e+01, 0.00000000e+00, 0.00000000e+00,\n",
       "       3.62710000e+00, 7.64300000e-01, 2.32464000e+01, 7.38300000e+00,\n",
       "       0.00000000e+00, 2.18500000e+00, 3.49630000e+00, 1.31700000e-01,\n",
       "       8.96600000e+00, 3.19030000e+00, 0.00000000e+00, 3.84190000e+00,\n",
       "       1.24500000e-01, 3.34880000e+00, 1.00000000e-02, 0.00000000e+00,\n",
       "       7.92500000e-01, 0.00000000e+00, 3.32807500e+01, 8.63000000e-02,\n",
       "       0.00000000e+00, 3.16640000e+00, 0.00000000e+00, 1.45615000e+01,\n",
       "       0.00000000e+00, 2.35470000e+00, 1.02000000e-02, 5.71600000e-01,\n",
       "       6.10000000e-02, 7.62100000e-01, 3.03730000e+00, 0.00000000e+00,\n",
       "       1.26738000e+01, 2.03200000e-01, 1.12570000e+00, 1.56670000e+00,\n",
       "       4.78750000e+00, 2.74300000e-01, 1.02000000e-02, 0.00000000e+00,\n",
       "       4.09200000e-01, 3.26920000e+00, 5.97660000e+00, 5.43400000e-01,\n",
       "       6.27500000e-01, 1.22911000e+01, 0.00000000e+00, 2.13830000e+00,\n",
       "       6.40100000e-01, 2.46400000e-01, 4.27930000e+00, 9.71710000e+00,\n",
       "       1.12976000e+01, 1.01200000e+00, 0.00000000e+00, 7.28900000e-01,\n",
       "       1.49150000e+00, 1.63888000e+01, 1.73708000e+01, 0.00000000e+00,\n",
       "       0.00000000e+00, 0.00000000e+00, 9.11800000e-01, 0.00000000e+00,\n",
       "       0.00000000e+00, 1.07690000e+00, 0.00000000e+00, 0.00000000e+00,\n",
       "       0.00000000e+00, 0.00000000e+00, 3.66520000e+00, 2.87780000e+00,\n",
       "       0.00000000e+00, 1.05742000e+01, 4.84900000e-01, 1.64717000e+01,\n",
       "       6.83300000e-01, 4.04360000e+00, 9.09100000e-01, 0.00000000e+00,\n",
       "       1.52000000e-02, 0.00000000e+00, 0.00000000e+00, 1.71421000e+01,\n",
       "       6.37010000e+00, 1.50467000e+01, 4.02470000e+00, 0.00000000e+00,\n",
       "       1.56076000e+01, 0.00000000e+00, 8.48800000e-01, 1.16005000e+01,\n",
       "       3.40400000e-01, 5.66900000e-01, 6.81100000e-01, 1.00184000e+01,\n",
       "       0.00000000e+00, 7.44400000e-01, 1.02000000e-02, 0.00000000e+00,\n",
       "       3.45420000e+00, 0.00000000e+00, 9.15000000e-02, 5.48700000e-01,\n",
       "       2.99120000e+00, 1.41940000e+00, 0.00000000e+00, 2.28000000e-02,\n",
       "       2.35650000e+00, 0.00000000e+00, 2.00440000e+00, 8.43000000e-01,\n",
       "       2.83640000e+00, 3.48000000e-01, 0.00000000e+00, 8.63700000e-01,\n",
       "       0.00000000e+00, 6.12350000e+00, 1.85020000e+00, 1.29600000e-01,\n",
       "       2.03200000e-01, 3.70800000e-01, 0.00000000e+00, 0.00000000e+00,\n",
       "       1.47300000e-01, 2.03856000e+01, 1.83970000e+00, 0.00000000e+00,\n",
       "       3.79960000e+00, 2.12070000e+00, 4.31300000e-01, 1.27000000e-02,\n",
       "       0.00000000e+00, 0.00000000e+00, 1.06590000e+00, 1.98200000e-01,\n",
       "       2.30100000e+00, 7.60000000e-03, 1.91760000e+00, 3.43470000e+00,\n",
       "       1.88190000e+00, 1.53170000e+00, 1.06470000e+00, 9.85700000e-01,\n",
       "       3.06590000e+00, 1.69600000e-01, 0.00000000e+00, 9.22730000e+00,\n",
       "       2.53900000e-01, 2.06220000e+00, 8.81680000e+00, 4.41100000e+00,\n",
       "       2.28600000e-01, 0.00000000e+00, 2.74072000e+01, 1.26720000e+00,\n",
       "       6.85000000e-02, 1.06700000e-01, 0.00000000e+00, 8.84650000e+00,\n",
       "       2.03500000e+00, 1.90030000e+00, 1.17805000e+01, 1.21970000e+00,\n",
       "       2.30350000e+00, 1.43750000e+00, 4.65300000e-01, 0.00000000e+00,\n",
       "       0.00000000e+00, 0.00000000e+00, 6.49030000e+00, 0.00000000e+00,\n",
       "       4.03800000e-01, 0.00000000e+00, 0.00000000e+00, 3.30200000e-01,\n",
       "       2.94800000e-01, 3.28420000e+00, 2.84410000e+00, 2.90090000e+00,\n",
       "       2.68057100e+01, 5.07900000e-01, 6.33570000e+00, 3.71260000e+00,\n",
       "       3.54390000e+00, 2.72760000e+00, 3.06510000e+00, 9.92290000e+00,\n",
       "       3.70900000e-01, 1.04952500e+01, 0.00000000e+00, 9.52600000e-01,\n",
       "       0.00000000e+00, 8.07600000e-01, 3.18602500e+00, 2.19634000e+01,\n",
       "       0.00000000e+00, 4.11400000e-01, 5.00000000e-03, 4.97900000e-01,\n",
       "       2.19690000e+00, 2.42310000e+00, 1.34180000e+00, 0.00000000e+00,\n",
       "       2.04446000e+01, 2.50000000e-03, 8.39750000e+00, 0.00000000e+00,\n",
       "       0.00000000e+00, 1.04557000e+01, 1.19400000e-01, 1.17030000e+00,\n",
       "       1.24200000e+00, 2.28600000e-01, 2.04000000e-02, 0.00000000e+00,\n",
       "       2.29000000e-02, 2.01793000e+01, 0.00000000e+00, 1.52110000e+00,\n",
       "       0.00000000e+00, 5.31790000e+00, 0.00000000e+00, 8.84930000e+00,\n",
       "       0.00000000e+00, 1.27000000e-01, 1.00365000e+01, 5.59500000e+00,\n",
       "       0.00000000e+00, 4.78800000e-01, 1.41230000e+00, 6.42150000e+00,\n",
       "       0.00000000e+00, 0.00000000e+00, 0.00000000e+00, 2.14230000e+00,\n",
       "       0.00000000e+00, 1.08430000e+00, 9.06600000e-01, 0.00000000e+00,\n",
       "       4.49100000e+00, 1.44430000e+00, 1.09240000e+00, 3.06820000e+00,\n",
       "       1.32300000e-01, 0.00000000e+00, 9.57100000e-01, 4.45580000e+00,\n",
       "       1.01380000e+00, 1.00620000e+00, 2.02410000e+00, 1.29050000e+00,\n",
       "       7.87000000e-02, 1.92900000e-01, 0.00000000e+00, 0.00000000e+00,\n",
       "       2.26130000e+00, 1.39700000e-01, 1.16080000e+00, 0.00000000e+00,\n",
       "       2.05800000e-01, 1.09300000e-01, 1.15540000e+00, 2.25268000e+01,\n",
       "       5.08000000e-02, 3.61180000e+00, 0.00000000e+00, 1.23569000e+01,\n",
       "       4.34390000e+00, 3.21590000e+00, 2.50000000e-03, 1.08700000e+00,\n",
       "       1.55450000e+00, 0.00000000e+00, 1.17473000e+01, 1.88190000e+00,\n",
       "       3.60800000e-01, 1.93240000e+00, 1.57174000e+01, 2.31000000e-01,\n",
       "       1.50650000e+00, 1.17870000e+00, 7.28300000e-01, 2.46150000e+00,\n",
       "       1.85580000e+00, 1.83000000e-01, 0.00000000e+00, 2.46400000e-01,\n",
       "       3.71340000e+00, 0.00000000e+00, 0.00000000e+00, 1.42100000e-01,\n",
       "       3.76210000e+00, 0.00000000e+00, 7.38710000e+00, 0.00000000e+00,\n",
       "       0.00000000e+00, 7.72400000e-01, 8.80620000e+00, 0.00000000e+00,\n",
       "       9.53270000e+00, 7.06760000e+00, 1.47560000e+00, 1.02340000e+00,\n",
       "       0.00000000e+00, 1.31403000e+01, 0.00000000e+00, 4.37100000e-01,\n",
       "       0.00000000e+00, 2.32110000e+00, 1.87570000e+00, 2.03720000e+00,\n",
       "       0.00000000e+00, 0.00000000e+00, 3.68200000e-01, 1.60650000e+00,\n",
       "       1.78000000e-02, 0.00000000e+00, 1.82610000e+00, 6.79640000e+00,\n",
       "       1.32590000e+00, 2.59110000e+00, 2.18400000e-01, 1.26230000e+00,\n",
       "       2.04000000e-02, 3.58200000e-01, 8.43200000e-01, 1.33850000e+00,\n",
       "       1.87462500e+01, 0.00000000e+00, 7.72880000e+00, 7.24140000e+00,\n",
       "       4.02900000e-01])"
      ]
     },
     "execution_count": 43,
     "metadata": {},
     "output_type": "execute_result"
    }
   ],
   "source": [
    "ypred"
   ]
  },
  {
   "cell_type": "code",
   "execution_count": 44,
   "metadata": {},
   "outputs": [
    {
     "data": {
      "text/plain": [
       "(473,)"
      ]
     },
     "execution_count": 44,
     "metadata": {},
     "output_type": "execute_result"
    }
   ],
   "source": [
    "y_test.shape\n"
   ]
  },
  {
   "cell_type": "code",
   "execution_count": 45,
   "metadata": {},
   "outputs": [
    {
     "data": {
      "text/plain": [
       "0.2728975259726836"
      ]
     },
     "execution_count": 45,
     "metadata": {},
     "output_type": "execute_result"
    }
   ],
   "source": [
    "from sklearn.metrics import r2_score #Testing accuracy\n",
    "r2_score(y_test,ypred)"
   ]
  },
  {
   "cell_type": "code",
   "execution_count": 46,
   "metadata": {},
   "outputs": [
    {
     "data": {
      "text/plain": [
       "(1889, 7)"
      ]
     },
     "execution_count": 46,
     "metadata": {},
     "output_type": "execute_result"
    }
   ],
   "source": [
    "x_train.shape"
   ]
  },
  {
   "cell_type": "code",
   "execution_count": 47,
   "metadata": {},
   "outputs": [
    {
     "data": {
      "text/plain": [
       "(1889,)"
      ]
     },
     "execution_count": 47,
     "metadata": {},
     "output_type": "execute_result"
    }
   ],
   "source": [
    "y_train.shape"
   ]
  },
  {
   "cell_type": "code",
   "execution_count": 53,
   "metadata": {},
   "outputs": [
    {
     "data": {
      "image/png": "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\n",
      "text/plain": [
       "<Figure size 432x288 with 1 Axes>"
      ]
     },
     "metadata": {
      "needs_background": "light"
     },
     "output_type": "display_data"
    }
   ],
   "source": [
    "plt.scatter(x_train[:,1],y_train,color='blue')      #Displaying relation b/w temp and rainfall\n",
    "plt.title('Rainfall prediction (Training set)')\n",
    "plt.xlabel('Temperature')\n",
    "plt.ylabel('Rainfall')\n",
    "plt.show()"
   ]
  },
  {
   "cell_type": "code",
   "execution_count": 54,
   "metadata": {},
   "outputs": [
    {
     "data": {
      "image/png": "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\n",
      "text/plain": [
       "<Figure size 432x288 with 1 Axes>"
      ]
     },
     "metadata": {
      "needs_background": "light"
     },
     "output_type": "display_data"
    }
   ],
   "source": [
    "plt.scatter(x_train[:,2],y_train,color='blue')      #Displaying relation b/w dp avg and rainfall\n",
    "plt.title('Rainfall prediction (Training set)')\n",
    "plt.xlabel('DP avg')\n",
    "plt.ylabel('Rainfall')\n",
    "plt.show()"
   ]
  },
  {
   "cell_type": "code",
   "execution_count": 55,
   "metadata": {},
   "outputs": [
    {
     "data": {
      "image/png": "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\n",
      "text/plain": [
       "<Figure size 432x288 with 1 Axes>"
      ]
     },
     "metadata": {
      "needs_background": "light"
     },
     "output_type": "display_data"
    }
   ],
   "source": [
    "plt.scatter(x_train[:,3],y_train,color='blue')      #Displaying relation b/w humidity and rainfall\n",
    "plt.title('Rainfall prediction (Training set)')\n",
    "plt.xlabel('Humidity')\n",
    "plt.ylabel('Rainfall')\n",
    "plt.show()"
   ]
  },
  {
   "cell_type": "code",
   "execution_count": 56,
   "metadata": {},
   "outputs": [
    {
     "data": {
      "image/png": "iVBORw0KGgoAAAANSUhEUgAAAYUAAAEWCAYAAACJ0YulAAAABHNCSVQICAgIfAhkiAAAAAlwSFlzAAALEgAACxIB0t1+/AAAADh0RVh0U29mdHdhcmUAbWF0cGxvdGxpYiB2ZXJzaW9
